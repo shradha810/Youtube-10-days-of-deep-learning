{
  "nbformat": 4,
  "nbformat_minor": 0,
  "metadata": {
    "colab": {
      "provenance": []
    },
    "kernelspec": {
      "name": "python3",
      "display_name": "Python 3"
    },
    "language_info": {
      "name": "python"
    }
  },
  "cells": [
    {
      "cell_type": "markdown",
      "source": [
        "Using Activation functions in NN using PyTorch"
      ],
      "metadata": {
        "id": "VLPTqriIbyiy"
      }
    },
    {
      "cell_type": "code",
      "execution_count": null,
      "metadata": {
        "colab": {
          "base_uri": "https://localhost:8080/"
        },
        "id": "jVNzpfFdKoEm",
        "outputId": "4d233afb-b011-433a-8909-40a32bb41499"
      },
      "outputs": [
        {
          "output_type": "stream",
          "name": "stdout",
          "text": [
            "Net(\n",
            "  (fc1): Linear(in_features=8, out_features=16, bias=True)\n",
            "  (relu): ReLU()\n",
            "  (fc2): Linear(in_features=16, out_features=16, bias=True)\n",
            "  (relu2): ReLU()\n",
            "  (fc3): Linear(in_features=16, out_features=1, bias=True)\n",
            "  (sigmoid): Sigmoid()\n",
            ")\n"
          ]
        }
      ],
      "source": [
        "import torch.nn as nn\n",
        "\n",
        "class Net(nn.Module): #New class definition that inherits from nn.module\n",
        "  def __init__(self, input_dim, hidden_dim, output_dim):\n",
        "    super(Net, self).__init__() #Initialise parent class nn.module\n",
        "    #Define Layers\n",
        "    self.fc1 = nn.Linear(input_dim, hidden_dim)\n",
        "    self.relu = nn.ReLU()\n",
        "    self.fc2 = nn.Linear(hidden_dim, hidden_dim)\n",
        "    self.relu2 = nn.ReLU()\n",
        "    self.fc3 = nn.Linear(hidden_dim, output_dim)\n",
        "    self.sigmoid = nn.Sigmoid()\n",
        "\n",
        "  def forward(self, x):\n",
        "    x = self.relu(self.fc1(x)) #apply first layer and ReLU\n",
        "    x = self.relu2(self.fc2(x))\n",
        "    x = self.sigmoid(self.fc3(x)) #apply output layer and Sigmoid\n",
        "    return x\n",
        "\n",
        "net = Net(input_dim=8, hidden_dim=16, output_dim=1)\n",
        "print(net)"
      ]
    }
  ]
}