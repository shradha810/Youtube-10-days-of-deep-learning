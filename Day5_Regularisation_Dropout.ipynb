{
  "nbformat": 4,
  "nbformat_minor": 0,
  "metadata": {
    "colab": {
      "provenance": []
    },
    "kernelspec": {
      "name": "python3",
      "display_name": "Python 3"
    },
    "language_info": {
      "name": "python"
    }
  },
  "cells": [
    {
      "cell_type": "markdown",
      "source": [
        "Implementing Dropout in NN using Pytorch"
      ],
      "metadata": {
        "id": "VLPTqriIbyiy"
      }
    },
    {
      "cell_type": "code",
      "source": [
        "import torch.nn as nn\n",
        "import torch\n",
        "from sklearn.metrics import confusion_matrix\n",
        "from sklearn.metrics import accuracy_score\n",
        "\n",
        "class Net(nn.Module):\n",
        "  def __init__(self, input_dim, hidden_dim, output_dim):\n",
        "    super(Net, self).__init__()\n",
        "    self.fc1 = nn.Linear(input_dim, hidden_dim)\n",
        "    self.relu = nn.ReLU()\n",
        "    self.fc2 = nn.Linear(hidden_dim, hidden_dim)\n",
        "    self.relu2 = nn.ReLU()\n",
        "    self.dropout = nn.Dropout(p=0.2)  # Add dropout layer with probability of 0.2\n",
        "    self.fc3 = nn.Linear(hidden_dim, output_dim)\n",
        "    self.sigmoid = nn.Sigmoid()\n",
        "\n",
        "  def forward(self, x):\n",
        "    x = self.fc1(x)\n",
        "    x = self.relu(x)\n",
        "    x = self.fc2(x)\n",
        "    x = self.relu2(x)\n",
        "    print(f'Before dropout: {x}')\n",
        "    x = self.dropout(x)  # Apply dropout\n",
        "    print(f'After dropout: {x}')\n",
        "    x = self.fc3(x)\n",
        "    x = self.sigmoid(x)\n",
        "    return x\n",
        "\n",
        "net = Net(input_dim=8, hidden_dim=16, output_dim=1)\n",
        "\n",
        "input = torch.randn(6, 8)\n",
        "target = torch.tensor([1, 0, 1, 0, 0, 1]).float()\n",
        "target = target.reshape([len(target),1])\n",
        "pred = net(input)"
      ],
      "metadata": {
        "colab": {
          "base_uri": "https://localhost:8080/"
        },
        "id": "RiziBGTcFI5k",
        "outputId": "3275ee18-0ba2-4737-f6db-15ec3625f0f5"
      },
      "execution_count": null,
      "outputs": [
        {
          "output_type": "stream",
          "name": "stdout",
          "text": [
            "Before dropout: tensor([[0.0000, 0.0000, 0.0000, 0.2638, 0.0753, 0.0000, 0.2675, 0.1289, 0.0000,\n",
            "         0.0000, 0.4423, 0.1653, 0.2073, 0.0000, 0.0000, 0.0000],\n",
            "        [0.0000, 0.0000, 0.0000, 0.1096, 0.0050, 0.0000, 0.1345, 0.0439, 0.0000,\n",
            "         0.0000, 0.2660, 0.0793, 0.0604, 0.0000, 0.0000, 0.0026],\n",
            "        [0.0000, 0.0000, 0.0000, 0.0045, 0.0000, 0.4160, 0.0283, 0.0000, 0.0000,\n",
            "         0.0000, 0.0296, 0.0000, 0.0000, 0.0000, 0.0000, 0.0000],\n",
            "        [0.0000, 0.0000, 0.0000, 0.1923, 0.0000, 0.0355, 0.3123, 0.0936, 0.0000,\n",
            "         0.0000, 0.3235, 0.0000, 0.2860, 0.0000, 0.0000, 0.1095],\n",
            "        [0.1658, 0.0000, 0.0650, 0.0000, 0.0000, 0.0534, 0.0000, 0.1597, 0.0000,\n",
            "         0.0000, 0.0370, 0.0000, 0.0000, 0.0000, 0.0000, 0.0000],\n",
            "        [0.0000, 0.0000, 0.0000, 0.0910, 0.0000, 0.0503, 0.2642, 0.0000, 0.0000,\n",
            "         0.0000, 0.0790, 0.0000, 0.1126, 0.0000, 0.0000, 0.0000]],\n",
            "       grad_fn=<ReluBackward0>)\n",
            "After dropout: tensor([[0.0000, 0.0000, 0.0000, 0.3298, 0.0000, 0.0000, 0.3343, 0.1611, 0.0000,\n",
            "         0.0000, 0.0000, 0.2067, 0.2591, 0.0000, 0.0000, 0.0000],\n",
            "        [0.0000, 0.0000, 0.0000, 0.1369, 0.0000, 0.0000, 0.1682, 0.0549, 0.0000,\n",
            "         0.0000, 0.3325, 0.0991, 0.0755, 0.0000, 0.0000, 0.0033],\n",
            "        [0.0000, 0.0000, 0.0000, 0.0057, 0.0000, 0.5200, 0.0353, 0.0000, 0.0000,\n",
            "         0.0000, 0.0370, 0.0000, 0.0000, 0.0000, 0.0000, 0.0000],\n",
            "        [0.0000, 0.0000, 0.0000, 0.0000, 0.0000, 0.0000, 0.3904, 0.1170, 0.0000,\n",
            "         0.0000, 0.4043, 0.0000, 0.3576, 0.0000, 0.0000, 0.1369],\n",
            "        [0.0000, 0.0000, 0.0812, 0.0000, 0.0000, 0.0668, 0.0000, 0.1996, 0.0000,\n",
            "         0.0000, 0.0463, 0.0000, 0.0000, 0.0000, 0.0000, 0.0000],\n",
            "        [0.0000, 0.0000, 0.0000, 0.0000, 0.0000, 0.0628, 0.3302, 0.0000, 0.0000,\n",
            "         0.0000, 0.0987, 0.0000, 0.0000, 0.0000, 0.0000, 0.0000]],\n",
            "       grad_fn=<MulBackward0>)\n"
          ]
        }
      ]
    }
  ]
}