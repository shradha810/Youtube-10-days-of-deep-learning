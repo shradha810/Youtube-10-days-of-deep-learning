{
  "nbformat": 4,
  "nbformat_minor": 0,
  "metadata": {
    "colab": {
      "provenance": []
    },
    "kernelspec": {
      "name": "python3",
      "display_name": "Python 3"
    },
    "language_info": {
      "name": "python"
    }
  },
  "cells": [
    {
      "cell_type": "markdown",
      "source": [
        "Implementing Binary Cross entropy loss function in NN using PyTorch"
      ],
      "metadata": {
        "id": "VLPTqriIbyiy"
      }
    },
    {
      "cell_type": "code",
      "execution_count": 32,
      "metadata": {
        "colab": {
          "base_uri": "https://localhost:8080/"
        },
        "id": "jVNzpfFdKoEm",
        "outputId": "a1902bcd-a7a6-47ad-8e0e-a10f5a6008d6"
      },
      "outputs": [
        {
          "output_type": "stream",
          "name": "stdout",
          "text": [
            "Prediction tensor shapetorch.Size([5, 1])\n",
            "target shapetorch.Size([5])\n",
            "Actual Classes: tensor([[1.],\n",
            "        [0.],\n",
            "        [1.],\n",
            "        [0.],\n",
            "        [0.]])\n",
            "Model Predictions: tensor([[0.5353],\n",
            "        [0.5303],\n",
            "        [0.4957],\n",
            "        [0.5090],\n",
            "        [0.5277]], grad_fn=<SigmoidBackward0>)\n",
            "Mean Binary Cross-Entropy Loss: 0.708738386631012\n"
          ]
        }
      ],
      "source": [
        "import torch.nn as nn\n",
        "import torch\n",
        "\n",
        "class Net(nn.Module):\n",
        "  def __init__(self, input_dim, hidden_dim, output_dim):\n",
        "    super(Net, self).__init__()\n",
        "    self.fc1 = nn.Linear(input_dim, hidden_dim)\n",
        "    self.relu = nn.ReLU()\n",
        "    self.fc2 = nn.Linear(hidden_dim, hidden_dim)\n",
        "    self.relu2 = nn.ReLU()\n",
        "    self.fc3 = nn.Linear(hidden_dim, output_dim)\n",
        "    self.sigmoid = nn.Sigmoid()\n",
        "\n",
        "  def forward(self, x):\n",
        "    x = self.fc1(x)\n",
        "    x = self.relu(x)\n",
        "    x = self.fc2(x)\n",
        "    x = self.relu2(x)\n",
        "    x = self.fc3(x)\n",
        "    x = self.sigmoid(x)\n",
        "    return x\n",
        "\n",
        "net = Net(input_dim=8, hidden_dim=16, output_dim=1)\n",
        "\n",
        "\n",
        "# 5 inputs and each has 8 feature values\n",
        "input = torch.randn(5, 8)\n",
        "target = torch.tensor([1, 0, 1, 0, 0])\n",
        "target = target.float()\n",
        "\n",
        "pred = net(input)\n",
        "\n",
        "#convert target tensor shape to that of pred\n",
        "print(f'Prediction tensor shape{pred.shape}')\n",
        "print(f'target shape{target.shape}')\n",
        "target = target.reshape([len(target),1])\n",
        "\n",
        "# Define the binary cross entropy loss function\n",
        "loss_function = nn.BCELoss()\n",
        "loss = loss_function(pred, target)\n",
        "\n",
        "print(f'Actual Classes: {target}')\n",
        "print(f'Model Predictions: {pred}')\n",
        "print(f'Mean Binary Cross-Entropy Loss: {loss}')"
      ]
    }
  ]
}