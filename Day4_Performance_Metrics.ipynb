{
  "nbformat": 4,
  "nbformat_minor": 0,
  "metadata": {
    "colab": {
      "provenance": []
    },
    "kernelspec": {
      "name": "python3",
      "display_name": "Python 3"
    },
    "language_info": {
      "name": "python"
    }
  },
  "cells": [
    {
      "cell_type": "markdown",
      "source": [
        "Implementing Performance metrics in NN using Sklearn"
      ],
      "metadata": {
        "id": "VLPTqriIbyiy"
      }
    },
    {
      "cell_type": "code",
      "source": [
        "import torch.nn as nn\n",
        "import torch\n",
        "from sklearn.metrics import confusion_matrix\n",
        "from sklearn.metrics import accuracy_score\n",
        "\n",
        "class Net(nn.Module):\n",
        "  def __init__(self, input_dim, hidden_dim, output_dim):\n",
        "    super(Net, self).__init__()\n",
        "    self.fc1 = nn.Linear(input_dim, hidden_dim)\n",
        "    self.relu = nn.ReLU()\n",
        "    self.fc2 = nn.Linear(hidden_dim, hidden_dim)\n",
        "    self.relu2 = nn.ReLU()\n",
        "    self.fc3 = nn.Linear(hidden_dim, output_dim)\n",
        "    self.sigmoid = nn.Sigmoid()\n",
        "\n",
        "  def forward(self, x):\n",
        "    x = self.fc1(x)\n",
        "    x = self.relu(x)\n",
        "    x = self.fc2(x)\n",
        "    x = self.relu2(x)\n",
        "    x = self.fc3(x)\n",
        "    x = self.sigmoid(x)\n",
        "    return x\n",
        "\n",
        "net = Net(input_dim=8, hidden_dim=16, output_dim=1)\n",
        "\n",
        "input = torch.randn(6, 8)\n",
        "target = torch.tensor([1, 0, 1, 0, 0, 1]).float()\n",
        "target = target.reshape([len(target),1])\n",
        "\n",
        "pred = net(input)\n",
        "\n",
        "loss_function = nn.BCELoss()\n",
        "loss = loss_function(pred, target)\n",
        "\n",
        "print(f'Actual Classes: {target}')\n",
        "print(f'Model Predictions: {pred}')\n",
        "print(f'Mean Binary Cross-Entropy Loss: {loss}')\n",
        "\n",
        "\n",
        "# Get predicted labels\n",
        "predicted_labels = torch.round(pred)\n",
        "\n",
        "# Detach gradient and convert to NumPy arrays\n",
        "predicted_labels = predicted_labels.detach().numpy()\n",
        "\n",
        "# Create confusion matrix\n",
        "confusion_matrix = confusion_matrix(target, predicted_labels)\n",
        "print(f'Confusion Matrix:{confusion_matrix}')\n",
        "\n",
        "tn, fp, fn, tp = confusion_matrix.ravel()\n",
        "print(f'True Positives (TP): {tp}')\n",
        "print(f'True Negatives (TN): {tn}')\n",
        "print(f'False Positives (FP): {fp}')\n",
        "print(f'False Negatives (FN): {fn}')\n",
        "\n",
        "# Calculate accuracy\n",
        "accuracy = (tp + tn) / len(target)\n",
        "accuracy_score_inbuilt = accuracy_score(target, predicted_labels)\n",
        "print(f'Accuracy: {accuracy}')\n",
        "print(f'Accuracy using inbuilt function: {accuracy_score_inbuilt}')"
      ],
      "metadata": {
        "colab": {
          "base_uri": "https://localhost:8080/"
        },
        "id": "GpkPXvJjtbI7",
        "outputId": "270669e6-5022-4f47-ed79-0f0613ed8364"
      },
      "execution_count": null,
      "outputs": [
        {
          "output_type": "stream",
          "name": "stdout",
          "text": [
            "Actual Classes: tensor([[1.],\n",
            "        [0.],\n",
            "        [1.],\n",
            "        [0.],\n",
            "        [0.],\n",
            "        [1.]])\n",
            "Model Predictions: tensor([[0.4793],\n",
            "        [0.5447],\n",
            "        [0.4991],\n",
            "        [0.5306],\n",
            "        [0.5400],\n",
            "        [0.5254]], grad_fn=<SigmoidBackward0>)\n",
            "Mean Binary Cross-Entropy Loss: 0.7322600483894348\n",
            "Confusion Matrix:[[0 3]\n",
            " [2 1]]\n",
            "True Positives (TP): 1\n",
            "True Negatives (TN): 0\n",
            "False Positives (FP): 3\n",
            "False Negatives (FN): 2\n",
            "Accuracy: 0.16666666666666666\n",
            "Accuracy using inbuilt function: 0.16666666666666666\n"
          ]
        }
      ]
    }
  ]
}